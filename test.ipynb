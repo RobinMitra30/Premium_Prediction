{
 "cells": [
  {
   "cell_type": "code",
   "execution_count": 1,
   "metadata": {},
   "outputs": [
    {
     "name": "stdout",
     "output_type": "stream",
     "text": [
      "18972.293864956722\n"
     ]
    }
   ],
   "source": [
    "import pickle\n",
    "import pandas as pd\n",
    "import numpy as np\n",
    "import warnings\n",
    "warnings.filterwarnings(\"ignore\")\n",
    "# with open('D:\\only projects\\Machine learning projects\\Premium_insurance\\Deployment\\gbr.pkl', 'rb') as file:\n",
    "#     loaded_model = pickle.load(file)\n",
    "\n",
    "model = pickle.load(open('D:\\only projects\\Machine learning projects\\Premium_insurance\\Deployment\\gbr.pkl' , \"rb\"))\n",
    "\n",
    "# with open('D:\\only projects\\Machine learning projects\\Premium_insurance\\Deployment\\labels.pkl', 'rb') as file:\n",
    "#     encoder = pickle.load(file)\n",
    "\n",
    "#yoo = pd.DataFrame([[42,1,22,2,1,0,0,1]])\n",
    "#loaded_model.predict(yoo.loc[0].values)\n",
    "#print(loaded_model)\n",
    "\n",
    "y_pred = model.predict(np.array([[ 42,1,22,2,1,0,0,1 ]]))\n",
    "print(y_pred[0])"
   ]
  },
  {
   "cell_type": "code",
   "execution_count": null,
   "metadata": {},
   "outputs": [],
   "source": []
  }
 ],
 "metadata": {
  "kernelspec": {
   "display_name": "base",
   "language": "python",
   "name": "python3"
  },
  "language_info": {
   "codemirror_mode": {
    "name": "ipython",
    "version": 3
   },
   "file_extension": ".py",
   "mimetype": "text/x-python",
   "name": "python",
   "nbconvert_exporter": "python",
   "pygments_lexer": "ipython3",
   "version": "3.11.3"
  }
 },
 "nbformat": 4,
 "nbformat_minor": 2
}
